{
 "cells": [
  {
   "cell_type": "code",
   "execution_count": 30,
   "metadata": {},
   "outputs": [],
   "source": [
    "import matplotlib as mpl\n",
    "import matplotlib.pyplot as plt\n",
    "from matplotlib import ticker\n",
    "import seaborn as sns\n",
    "import pandas as pd\n",
    "import numpy as np  \n",
    "from scipy.stats import rankdata\n",
    "from scipy import stats\n",
    "import sys"
   ]
  },
  {
   "cell_type": "markdown",
   "metadata": {},
   "source": [
    "## Ranking across experiments"
   ]
  },
  {
   "cell_type": "markdown",
   "metadata": {},
   "source": [
    "Load the time/pulsed experiments"
   ]
  },
  {
   "cell_type": "code",
   "execution_count": 31,
   "metadata": {},
   "outputs": [
    {
     "name": "stdout",
     "output_type": "stream",
     "text": [
      "(23, 6)\n"
     ]
    },
    {
     "data": {
      "text/html": [
       "<div>\n",
       "<style scoped>\n",
       "    .dataframe tbody tr th:only-of-type {\n",
       "        vertical-align: middle;\n",
       "    }\n",
       "\n",
       "    .dataframe tbody tr th {\n",
       "        vertical-align: top;\n",
       "    }\n",
       "\n",
       "    .dataframe thead th {\n",
       "        text-align: right;\n",
       "    }\n",
       "</style>\n",
       "<table border=\"1\" class=\"dataframe\">\n",
       "  <thead>\n",
       "    <tr style=\"text-align: right;\">\n",
       "      <th></th>\n",
       "      <th>Unnamed: 0</th>\n",
       "      <th>intervention_name</th>\n",
       "      <th>algorithm</th>\n",
       "      <th>decay</th>\n",
       "      <th>total_cell_count</th>\n",
       "      <th>cell_count_rank</th>\n",
       "    </tr>\n",
       "  </thead>\n",
       "  <tbody>\n",
       "    <tr>\n",
       "      <th>0</th>\n",
       "      <td>EG_Ceramide_S1P_1_2</td>\n",
       "      <td>Ceramide-&gt;S1P=1</td>\n",
       "      <td>EG</td>\n",
       "      <td>2</td>\n",
       "      <td>199347.000000</td>\n",
       "      <td>9.0</td>\n",
       "    </tr>\n",
       "    <tr>\n",
       "      <th>1</th>\n",
       "      <td>EG_GAP_RAS_1_2</td>\n",
       "      <td>GAP-&gt;RAS=1</td>\n",
       "      <td>EG</td>\n",
       "      <td>2</td>\n",
       "      <td>652774.666667</td>\n",
       "      <td>22.0</td>\n",
       "    </tr>\n",
       "    <tr>\n",
       "      <th>2</th>\n",
       "      <td>EG_IL15_GAP_0_2</td>\n",
       "      <td>IL15-&gt;GAP=0</td>\n",
       "      <td>EG</td>\n",
       "      <td>2</td>\n",
       "      <td>667846.000000</td>\n",
       "      <td>23.0</td>\n",
       "    </tr>\n",
       "    <tr>\n",
       "      <th>3</th>\n",
       "      <td>EG_IL2RBT_IL2RB_0_2</td>\n",
       "      <td>IL2RBT-&gt;IL2RB=0</td>\n",
       "      <td>EG</td>\n",
       "      <td>2</td>\n",
       "      <td>633734.666667</td>\n",
       "      <td>19.0</td>\n",
       "    </tr>\n",
       "    <tr>\n",
       "      <th>4</th>\n",
       "      <td>EG_IL2RB_MCL1_0_2</td>\n",
       "      <td>IL2RB-&gt;MCL1=0</td>\n",
       "      <td>EG</td>\n",
       "      <td>2</td>\n",
       "      <td>609459.333333</td>\n",
       "      <td>17.0</td>\n",
       "    </tr>\n",
       "  </tbody>\n",
       "</table>\n",
       "</div>"
      ],
      "text/plain": [
       "            Unnamed: 0 intervention_name algorithm  decay  total_cell_count  \\\n",
       "0  EG_Ceramide_S1P_1_2   Ceramide->S1P=1        EG      2     199347.000000   \n",
       "1       EG_GAP_RAS_1_2        GAP->RAS=1        EG      2     652774.666667   \n",
       "2      EG_IL15_GAP_0_2       IL15->GAP=0        EG      2     667846.000000   \n",
       "3  EG_IL2RBT_IL2RB_0_2   IL2RBT->IL2RB=0        EG      2     633734.666667   \n",
       "4    EG_IL2RB_MCL1_0_2     IL2RB->MCL1=0        EG      2     609459.333333   \n",
       "\n",
       "   cell_count_rank  \n",
       "0              9.0  \n",
       "1             22.0  \n",
       "2             23.0  \n",
       "3             19.0  \n",
       "4             17.0  "
      ]
     },
     "execution_count": 31,
     "metadata": {},
     "output_type": "execute_result"
    }
   ],
   "source": [
    "# time_fast_decay_df = pd.read_csv('../dataframes/fast_decay_time_ranking.csv') # this isn't super relevant - we're not using it\n",
    "time_medium_decay_df = pd.read_csv('../dataframes/medium_decay_time_ranking.csv')\n",
    "time_slow_decay_df = pd.read_csv('../dataframes/slow_decay_time_ranking.csv')\n",
    "print(time_medium_decay_df.shape)\n",
    "time_medium_decay_df.head()"
   ]
  },
  {
   "cell_type": "markdown",
   "metadata": {},
   "source": [
    "Load the spatial experiment"
   ]
  },
  {
   "cell_type": "code",
   "execution_count": 34,
   "metadata": {},
   "outputs": [
    {
     "name": "stdout",
     "output_type": "stream",
     "text": [
      "(23, 11)\n"
     ]
    },
    {
     "data": {
      "text/html": [
       "<div>\n",
       "<style scoped>\n",
       "    .dataframe tbody tr th:only-of-type {\n",
       "        vertical-align: middle;\n",
       "    }\n",
       "\n",
       "    .dataframe tbody tr th {\n",
       "        vertical-align: top;\n",
       "    }\n",
       "\n",
       "    .dataframe thead th {\n",
       "        text-align: right;\n",
       "    }\n",
       "</style>\n",
       "<table border=\"1\" class=\"dataframe\">\n",
       "  <thead>\n",
       "    <tr style=\"text-align: right;\">\n",
       "      <th></th>\n",
       "      <th>Unnamed: 0</th>\n",
       "      <th>Max cell count</th>\n",
       "      <th>Time at max cell count</th>\n",
       "      <th>Final cell count</th>\n",
       "      <th>Time to 75% population</th>\n",
       "      <th>Time at max cell count rank</th>\n",
       "      <th>Final cell count rank</th>\n",
       "      <th>Time to 75% population rank</th>\n",
       "      <th>steady_state_cell_count</th>\n",
       "      <th>Steady state cell count rank</th>\n",
       "      <th>cell_count_rank</th>\n",
       "    </tr>\n",
       "  </thead>\n",
       "  <tbody>\n",
       "    <tr>\n",
       "      <th>0</th>\n",
       "      <td>EG_Ceramide_S1P_1_11</td>\n",
       "      <td>1367</td>\n",
       "      <td>264.0</td>\n",
       "      <td>885</td>\n",
       "      <td>672.0</td>\n",
       "      <td>19.5</td>\n",
       "      <td>20.5</td>\n",
       "      <td>15.0</td>\n",
       "      <td>106632.0</td>\n",
       "      <td>20.0</td>\n",
       "      <td>20.0</td>\n",
       "    </tr>\n",
       "    <tr>\n",
       "      <th>1</th>\n",
       "      <td>EG_GAP_RAS_1_11</td>\n",
       "      <td>1373</td>\n",
       "      <td>300.0</td>\n",
       "      <td>884</td>\n",
       "      <td>888.0</td>\n",
       "      <td>21.5</td>\n",
       "      <td>19.0</td>\n",
       "      <td>22.0</td>\n",
       "      <td>107269.0</td>\n",
       "      <td>23.0</td>\n",
       "      <td>23.0</td>\n",
       "    </tr>\n",
       "    <tr>\n",
       "      <th>2</th>\n",
       "      <td>EG_IL15_GAP_0_11</td>\n",
       "      <td>1398</td>\n",
       "      <td>444.0</td>\n",
       "      <td>887</td>\n",
       "      <td>948.0</td>\n",
       "      <td>23.0</td>\n",
       "      <td>23.0</td>\n",
       "      <td>23.0</td>\n",
       "      <td>106486.0</td>\n",
       "      <td>19.0</td>\n",
       "      <td>19.0</td>\n",
       "    </tr>\n",
       "    <tr>\n",
       "      <th>3</th>\n",
       "      <td>EG_IL2RBT_IL2RB_0_11</td>\n",
       "      <td>1360</td>\n",
       "      <td>156.0</td>\n",
       "      <td>873</td>\n",
       "      <td>588.0</td>\n",
       "      <td>12.0</td>\n",
       "      <td>3.5</td>\n",
       "      <td>12.0</td>\n",
       "      <td>105573.0</td>\n",
       "      <td>9.0</td>\n",
       "      <td>9.0</td>\n",
       "    </tr>\n",
       "    <tr>\n",
       "      <th>4</th>\n",
       "      <td>EG_IL2RB_MCL1_0_11</td>\n",
       "      <td>1362</td>\n",
       "      <td>108.0</td>\n",
       "      <td>880</td>\n",
       "      <td>540.0</td>\n",
       "      <td>10.5</td>\n",
       "      <td>12.5</td>\n",
       "      <td>11.0</td>\n",
       "      <td>105554.0</td>\n",
       "      <td>7.0</td>\n",
       "      <td>7.0</td>\n",
       "    </tr>\n",
       "  </tbody>\n",
       "</table>\n",
       "</div>"
      ],
      "text/plain": [
       "             Unnamed: 0  Max cell count  Time at max cell count  \\\n",
       "0  EG_Ceramide_S1P_1_11            1367                   264.0   \n",
       "1       EG_GAP_RAS_1_11            1373                   300.0   \n",
       "2      EG_IL15_GAP_0_11            1398                   444.0   \n",
       "3  EG_IL2RBT_IL2RB_0_11            1360                   156.0   \n",
       "4    EG_IL2RB_MCL1_0_11            1362                   108.0   \n",
       "\n",
       "   Final cell count  Time to 75% population  Time at max cell count rank  \\\n",
       "0               885                   672.0                         19.5   \n",
       "1               884                   888.0                         21.5   \n",
       "2               887                   948.0                         23.0   \n",
       "3               873                   588.0                         12.0   \n",
       "4               880                   540.0                         10.5   \n",
       "\n",
       "   Final cell count rank  Time to 75% population rank  \\\n",
       "0                   20.5                         15.0   \n",
       "1                   19.0                         22.0   \n",
       "2                   23.0                         23.0   \n",
       "3                    3.5                         12.0   \n",
       "4                   12.5                         11.0   \n",
       "\n",
       "   steady_state_cell_count  Steady state cell count rank  cell_count_rank  \n",
       "0                 106632.0                          20.0             20.0  \n",
       "1                 107269.0                          23.0             23.0  \n",
       "2                 106486.0                          19.0             19.0  \n",
       "3                 105573.0                           9.0              9.0  \n",
       "4                 105554.0                           7.0              7.0  "
      ]
     },
     "execution_count": 34,
     "metadata": {},
     "output_type": "execute_result"
    }
   ],
   "source": [
    "space_cell_measure_ranking_df = pd.read_csv('../dataframes/spatial_cell_measures_rankings.csv')\n",
    "print(space_cell_measure_ranking_df.shape)\n",
    "space_cell_measure_ranking_df.head()"
   ]
  },
  {
   "cell_type": "markdown",
   "metadata": {},
   "source": [
    "Load the time and spatial experiment"
   ]
  },
  {
   "cell_type": "code",
   "execution_count": 35,
   "metadata": {},
   "outputs": [
    {
     "data": {
      "text/html": [
       "<div>\n",
       "<style scoped>\n",
       "    .dataframe tbody tr th:only-of-type {\n",
       "        vertical-align: middle;\n",
       "    }\n",
       "\n",
       "    .dataframe tbody tr th {\n",
       "        vertical-align: top;\n",
       "    }\n",
       "\n",
       "    .dataframe thead th {\n",
       "        text-align: right;\n",
       "    }\n",
       "</style>\n",
       "<table border=\"1\" class=\"dataframe\">\n",
       "  <thead>\n",
       "    <tr style=\"text-align: right;\">\n",
       "      <th></th>\n",
       "      <th>Unnamed: 0</th>\n",
       "      <th>intervention_name</th>\n",
       "      <th>algorithm</th>\n",
       "      <th>decay</th>\n",
       "      <th>steady_state_cell_count</th>\n",
       "      <th>AUC</th>\n",
       "      <th>cell_count_rank</th>\n",
       "    </tr>\n",
       "  </thead>\n",
       "  <tbody>\n",
       "    <tr>\n",
       "      <th>0</th>\n",
       "      <td>EG_Ceramide_S1P_1_1</td>\n",
       "      <td>Ceramide-&gt;S1P=1</td>\n",
       "      <td>EG</td>\n",
       "      <td>1</td>\n",
       "      <td>389074.0</td>\n",
       "      <td>801.5</td>\n",
       "      <td>11.0</td>\n",
       "    </tr>\n",
       "    <tr>\n",
       "      <th>1</th>\n",
       "      <td>EG_GAP_RAS_1_1</td>\n",
       "      <td>GAP-&gt;RAS=1</td>\n",
       "      <td>EG</td>\n",
       "      <td>1</td>\n",
       "      <td>413721.0</td>\n",
       "      <td>851.5</td>\n",
       "      <td>19.0</td>\n",
       "    </tr>\n",
       "    <tr>\n",
       "      <th>2</th>\n",
       "      <td>EG_IL15_GAP_0_1</td>\n",
       "      <td>IL15-&gt;GAP=0</td>\n",
       "      <td>EG</td>\n",
       "      <td>1</td>\n",
       "      <td>415546.0</td>\n",
       "      <td>853.0</td>\n",
       "      <td>22.0</td>\n",
       "    </tr>\n",
       "    <tr>\n",
       "      <th>3</th>\n",
       "      <td>EG_IL2RBT_IL2RB_0_1</td>\n",
       "      <td>IL2RBT-&gt;IL2RB=0</td>\n",
       "      <td>EG</td>\n",
       "      <td>1</td>\n",
       "      <td>408738.0</td>\n",
       "      <td>851.5</td>\n",
       "      <td>17.0</td>\n",
       "    </tr>\n",
       "    <tr>\n",
       "      <th>4</th>\n",
       "      <td>EG_IL2RB_MCL1_0_1</td>\n",
       "      <td>IL2RB-&gt;MCL1=0</td>\n",
       "      <td>EG</td>\n",
       "      <td>1</td>\n",
       "      <td>415363.0</td>\n",
       "      <td>864.5</td>\n",
       "      <td>21.0</td>\n",
       "    </tr>\n",
       "  </tbody>\n",
       "</table>\n",
       "</div>"
      ],
      "text/plain": [
       "            Unnamed: 0 intervention_name algorithm  decay  \\\n",
       "0  EG_Ceramide_S1P_1_1   Ceramide->S1P=1        EG      1   \n",
       "1       EG_GAP_RAS_1_1        GAP->RAS=1        EG      1   \n",
       "2      EG_IL15_GAP_0_1       IL15->GAP=0        EG      1   \n",
       "3  EG_IL2RBT_IL2RB_0_1   IL2RBT->IL2RB=0        EG      1   \n",
       "4    EG_IL2RB_MCL1_0_1     IL2RB->MCL1=0        EG      1   \n",
       "\n",
       "   steady_state_cell_count    AUC  cell_count_rank  \n",
       "0                 389074.0  801.5             11.0  \n",
       "1                 413721.0  851.5             19.0  \n",
       "2                 415546.0  853.0             22.0  \n",
       "3                 408738.0  851.5             17.0  \n",
       "4                 415363.0  864.5             21.0  "
      ]
     },
     "execution_count": 35,
     "metadata": {},
     "output_type": "execute_result"
    }
   ],
   "source": [
    "time_fast_clearance_df = pd.read_csv('../dataframes/fast_clearance_time_ranking.csv')\n",
    "time_medium_clearance_df = pd.read_csv('../dataframes/medium_clearance_time_ranking.csv')\n",
    "time_slow_clearnce_df = pd.read_csv('../dataframes/slow_clearance_time_ranking.csv')\n",
    "\n",
    "time_fast_clearance_df.head()"
   ]
  },
  {
   "cell_type": "code",
   "execution_count": 36,
   "metadata": {},
   "outputs": [
    {
     "data": {
      "text/plain": [
       "<matplotlib.collections.PathCollection at 0x7f7cc8f234f0>"
      ]
     },
     "execution_count": 36,
     "metadata": {},
     "output_type": "execute_result"
    },
    {
     "data": {
      "image/png": "[encoded data removed]",
      "text/plain": [
       "<Figure size 1500x500 with 3 Axes>"
      ]
     },
     "metadata": {},
     "output_type": "display_data"
    }
   ],
   "source": [
    "fig, ax = plt.subplots(1, 3, figsize=(15, 5))\n",
    "ax[0].scatter(time_medium_decay_df['cell_count_rank'], space_cell_measure_ranking_df['cell_count_rank'])\n",
    "# ax[0].set_title('Medium Decay Time vs. Final Cell Count')\n",
    "ax[1].scatter(time_medium_decay_df['cell_count_rank'], time_medium_clearance_df['cell_count_rank'])\n",
    "\n",
    "ax[2].scatter(time_medium_clearance_df['cell_count_rank'], space_cell_measure_ranking_df['cell_count_rank'])\n",
    "# plt.savefig('../figures/cell_count_rank_comparison.png')"
   ]
  },
  {
   "cell_type": "code",
   "execution_count": null,
   "metadata": {},
   "outputs": [],
   "source": []
  }
 ],
 "metadata": {
  "kernelspec": {
   "display_name": "base",
   "language": "python",
   "name": "python3"
  },
  "language_info": {
   "codemirror_mode": {
    "name": "ipython",
    "version": 3
   },
   "file_extension": ".py",
   "mimetype": "text/x-python",
   "name": "python",
   "nbconvert_exporter": "python",
   "pygments_lexer": "ipython3",
   "version": "3.9.12"
  }
 },
 "nbformat": 4,
 "nbformat_minor": 2
}
