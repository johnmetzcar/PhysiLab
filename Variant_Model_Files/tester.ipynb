{
 "cells": [
  {
   "cell_type": "code",
   "execution_count": 2,
   "metadata": {},
   "outputs": [],
   "source": [
    "import os\n",
    "import os.path\n",
    "import pandas as pd"
   ]
  },
  {
   "cell_type": "code",
   "execution_count": 3,
   "metadata": {},
   "outputs": [
    {
     "data": {
      "text/plain": [
       "'/Users/JohnMetzcar/Documents/GitHub/PhysiLab/Variant Model Files'"
      ]
     },
     "execution_count": 3,
     "metadata": {},
     "output_type": "execute_result"
    }
   ],
   "source": [
    "os.getcwd()"
   ]
  },
  {
   "cell_type": "code",
   "execution_count": 4,
   "metadata": {},
   "outputs": [
    {
     "name": "stdout",
     "output_type": "stream",
     "text": [
      "/Users/JohnMetzcar/Documents/GitHub/PhysiLab\n",
      "/Users/JohnMetzcar/Documents/GitHub/PhysiLab/leukemia_model_files/\n",
      "/Users/JohnMetzcar/Documents/GitHub/PhysiLab/Variant Model Files/\n"
     ]
    }
   ],
   "source": [
    "os.chdir(\"../\")\n",
    "full_path = os.getcwd()\n",
    "print(full_path)\n",
    "rel_output_dir = 'leukemia_model_files/'\n",
    "output_dir = os.path.join(full_path, rel_output_dir)\n",
    "print(output_dir)\n",
    "rel_input_dir = 'Variant Model Files/'\n",
    "input_dir = os.path.join(full_path, rel_input_dir)\n",
    "print(input_dir)"
   ]
  },
  {
   "cell_type": "code",
   "execution_count": 10,
   "metadata": {},
   "outputs": [
    {
     "data": {
      "text/plain": [
       "'/Users/JohnMetzcar/Documents/GitHub/PhysiLab/Variant Model Files'"
      ]
     },
     "execution_count": 10,
     "metadata": {},
     "output_type": "execute_result"
    }
   ],
   "source": [
    "os.getcwd()"
   ]
  },
  {
   "cell_type": "code",
   "execution_count": 14,
   "metadata": {},
   "outputs": [
    {
     "name": "stdout",
     "output_type": "stream",
     "text": [
      "/Users/JohnMetzcar/Documents/GitHub\n",
      "Input directory: \n",
      "/Users/JohnMetzcar/Documents/GitHub/Variant Model Files/\n",
      "Input BND file: \n",
      "/Users/JohnMetzcar/Documents/GitHub/Variant Model Files/TLGL.bnd\n",
      "Input XML file: \n",
      "/Users/JohnMetzcar/Documents/GitHub/Variant Model Files/base_model_file_multiple_interventions.xml\n",
      "Output directory: \n",
      "/Users/JohnMetzcar/Documents/GitHub/leukemia_model_files/\n"
     ]
    },
    {
     "data": {
      "text/plain": [
       "''"
      ]
     },
     "execution_count": 14,
     "metadata": {},
     "output_type": "execute_result"
    }
   ],
   "source": [
    "###################### EDIT THESE VARIABLES ######################\n",
    "### Note - eventually will put this in a config file (.ini) or something similar\n",
    "\n",
    "######################## Base Model Files ########################\n",
    "\n",
    "# MaBoSS files\n",
    "# EDIT TO BE NAME OF ORIGINAL BND FILE (MaBoSS model)\n",
    "MaBoSS_file = \"TLGL.bnd\"\n",
    "# EDIT TO BE NAME OF ORIGINAL CFG FILE (MaBoSS model)\n",
    "MaBoSS_config = \"TLGL.cfg\"\n",
    "\n",
    "# PhysiCell files\n",
    "# EDIT TO BE NAME OF ORIGINAL XML FILE (PhysiCell model)\n",
    "PhysiCell_file = \"base_model_file_multiple_interventions.xml\"\n",
    "\n",
    "################### Pathing Variables ########################\n",
    "\n",
    "# relative path to input directory\n",
    "# EDIT TO BE LOCATION OF ORIGINAL MODEL FILES\n",
    "rel_input_dir = 'Variant Model Files/'\n",
    "\n",
    "# relative path to output directory\n",
    "# EDIT TO BE LOCATION OF WHERE YOU WANT TO STORE THE NEW MODEL FILES\n",
    "rel_output_dir = 'leukemia_model_files/'\n",
    "\n",
    "########################### PATHING ###########################\n",
    "# move to PhysiCell root directory - this assumes this script is one folder below the root\n",
    "os.chdir(\"../\")\n",
    "full_path = os.getcwd()\n",
    "print(full_path)\n",
    "\n",
    "input_dir = os.path.join(full_path, rel_input_dir)\n",
    "print(\"Input directory: \")\n",
    "print(input_dir)\n",
    "input_MaBoSS_file = os.path.join(input_dir, MaBoSS_file)\n",
    "print(\"Input BND file: \")\n",
    "print(input_MaBoSS_file)\n",
    "\n",
    "input_PC_file = os.path.join(input_dir, PhysiCell_file)\n",
    "print(\"Input XML file: \")\n",
    "print(input_PC_file)\n",
    "\n",
    "output_dir = os.path.join(full_path, rel_output_dir)\n",
    "print(\"Output directory: \")\n",
    "print(output_dir)\n",
    "\n",
    "input(\"Press Enter to continue...\\n Press Ctrl + C to exit...\")\n"
   ]
  },
  {
   "cell_type": "code",
   "execution_count": 12,
   "metadata": {},
   "outputs": [
    {
     "data": {
      "text/plain": [
       "'/Users/JohnMetzcar/Documents/GitHub/PhysiLab/leukemia_model_files'"
      ]
     },
     "execution_count": 12,
     "metadata": {},
     "output_type": "execute_result"
    }
   ],
   "source": [
    "os.getcwd()"
   ]
  },
  {
   "cell_type": "code",
   "execution_count": 9,
   "metadata": {},
   "outputs": [
    {
     "name": "stdout",
     "output_type": "stream",
     "text": [
      "['Node CTLA4 {\\n', '  logic = (TCR);\\n', '  rate_up = @logic ? 1.0 : 0.0;\\n', '  rate_down = @logic ? 0.0 : 1.0;\\n', '}\\n', '\\n', 'Node TCR {\\n', '  logic = (Stimuli & ! CTLA4);\\n', '  rate_up = @logic ? 1.0 : 0.0;\\n', '  rate_down = @logic ? 0.0 : 1.0;\\n', '}\\n', '\\n', 'Node PDGFR {\\n', '  logic = (S1P | PDGF);\\n', '  rate_up = @logic ? 1.0 : 0.0;\\n', '  rate_down = @logic ? 0.0 : 1.0;\\n', '}\\n', '\\n', 'Node FYN {\\n', '  logic = (TCR | IL2RB);\\n', '  rate_up = @logic ? 1.0 : 0.0;\\n', '  rate_down = @logic ? 0.0 : 1.0;\\n', '}\\n', '\\n', 'Node Cytoskeleton_signaling {\\n', '  logic = (FYN);\\n', '  rate_up = @logic ? 1.0 : 0.0;\\n', '  rate_down = @logic ? 0.0 : 1.0;\\n', '}\\n', '\\n', 'Node LCK {\\n', '  logic = (CD45 | ((TCR | IL2RB) & ! ZAP70));\\n', '  rate_up = @logic ? 1.0 : 0.0;\\n', '  rate_down = @logic ? 0.0 : 1.0;\\n', '}\\n', '\\n', 'Node ZAP70 {\\n', '  logic = (LCK & ! FYN);\\n', '  rate_up = @logic ? 1.0 : 0.0;\\n', '  rate_down = @logic ? 0.0 : 1.0;\\n', '}\\n', '\\n', 'Node GRB2 {\\n', '  logic = (IL2RB | ZAP70);\\n', '  rate_up = @logic ? 1.0 : 0.0;\\n', '  rate_down = @logic ? 0.0 : 1.0;\\n', '}\\n', '\\n', 'Node PLCG1 {\\n', '  logic = (GRB2 | PDGFR);\\n', '  rate_up = @logic ? 1.0 : 0.0;\\n', '  rate_down = @logic ? 0.0 : 1.0;\\n', '}\\n', '\\n', 'Node RAS {\\n', '  logic = ((GRB2 | PLCG1) & ! GAP);\\n', '  rate_up = @logic ? 1.0 : 0.0;\\n', '  rate_down = @logic ? 0.0 : 1.0;\\n', '}\\n', '\\n', 'Node GAP {\\n', '  logic = ((RAS | (PDGFR & GAP)) & ! (IL15 | IL2));\\n', '  rate_up = @logic ? 1.0 : 0.0;\\n', '  rate_down = @logic ? 0.0 : 1.0;\\n', '}\\n', '\\n', 'Node MEK {\\n', '  logic = (RAS);\\n', '  rate_up = @logic ? 1.0 : 0.0;\\n', '  rate_down = @logic ? 0.0 : 1.0;\\n', '}\\n', '\\n', 'Node ERK {\\n', '  logic = (MEK & PI3K);\\n', '  rate_up = @logic ? 1.0 : 0.0;\\n', '  rate_down = @logic ? 0.0 : 1.0;\\n', '}\\n', '\\n', 'Node PI3K {\\n', '  logic = (PDGFR | RAS);\\n', '  rate_up = @logic ? 1.0 : 0.0;\\n', '  rate_down = @logic ? 0.0 : 1.0;\\n', '}\\n', '\\n', 'Node NFKB {\\n', '  logic = ((TPL2 | PI3K) | (FLIP & TRADD & IAP));\\n', '  rate_up = @logic ? 1.0 : 0.0;\\n', '  rate_down = @logic ? 0.0 : 1.0;\\n', '}\\n', '\\n', 'Node NFAT {\\n', '  logic = (PI3K);\\n', '  rate_up = @logic ? 1.0 : 0.0;\\n', '  rate_down = @logic ? 0.0 : 1.0;\\n', '}\\n', '\\n', 'Node RANTES {\\n', '  logic = (NFKB);\\n', '  rate_up = @logic ? 1.0 : 0.0;\\n', '  rate_down = @logic ? 0.0 : 1.0;\\n', '}\\n', '\\n', 'Node IL2 {\\n', '  logic = ((NFKB | STAT3 | NFAT) & ! TBET);\\n', '  rate_up = @logic ? 1.0 : 0.0;\\n', '  rate_down = @logic ? 0.0 : 1.0;\\n', '}\\n', '\\n', 'Node IL2RBT {\\n', '  logic = (ERK & TBET);\\n', '  rate_up = @logic ? 1.0 : 0.0;\\n', '  rate_down = @logic ? 0.0 : 1.0;\\n', '}\\n', '\\n', 'Node IL2RB {\\n', '  logic = (IL2RBT & (IL2 | IL15));\\n', '  rate_up = @logic ? 1.0 : 0.0;\\n', '  rate_down = @logic ? 0.0 : 1.0;\\n', '}\\n', '\\n', 'Node IL2RAT {\\n', '  logic = (IL2 & (STAT3 | NFKB));\\n', '  rate_up = @logic ? 1.0 : 0.0;\\n', '  rate_down = @logic ? 0.0 : 1.0;\\n', '}\\n', '\\n', 'Node IL2RA {\\n', '  logic = ((IL2 & IL2RAT) & ! IL2RA);\\n', '  rate_up = @logic ? 1.0 : 0.0;\\n', '  rate_down = @logic ? 0.0 : 1.0;\\n', '}\\n', '\\n', 'Node JAK {\\n', '  logic = ((IL2RA | IL2RB | RANTES | IFNG) & ! (SOCS | CD45));\\n', '  rate_up = @logic ? 1.0 : 0.0;\\n', '  rate_down = @logic ? 0.0 : 1.0;\\n', '}\\n', '\\n', 'Node SOCS {\\n', '  logic = (JAK & ! (IL2 | IL15));\\n', '  rate_up = @logic ? 1.0 : 0.0;\\n', '  rate_down = @logic ? 0.0 : 1.0;\\n', '}\\n', '\\n', 'Node STAT3 {\\n', '  logic = (JAK);\\n', '  rate_up = @logic ? 1.0 : 0.0;\\n', '  rate_down = @logic ? 0.0 : 1.0;\\n', '}\\n', '\\n', 'Node P27 {\\n', '  logic = (STAT3);\\n', '  rate_up = @logic ? 1.0 : 0.0;\\n', '  rate_down = @logic ? 0.0 : 1.0;\\n', '}\\n', '\\n', 'Node Proliferation {\\n', '  logic = (STAT3 & ! P27);\\n', '  rate_up = @logic ? 1.0 : 0.0;\\n', '  rate_down = @logic ? 0.0 : 1.0;\\n', '}\\n', '\\n', 'Node TBET {\\n', '  logic = (JAK | TBET);\\n', '  rate_up = @logic ? 1.0 : 0.0;\\n', '  rate_down = @logic ? 0.0 : 1.0;\\n', '}\\n', '\\n', 'Node CREB {\\n', '  logic = (ERK & IFNG);\\n', '  rate_up = @logic ? 1.0 : 0.0;\\n', '  rate_down = @logic ? 0.0 : 1.0;\\n', '}\\n', '\\n', 'Node IFNGT {\\n', '  logic = (TBET | STAT3 | NFAT);\\n', '  rate_up = @logic ? 1.0 : 0.0;\\n', '  rate_down = @logic ? 0.0 : 1.0;\\n', '}\\n', '\\n', 'Node IFNG {\\n', '  logic = (((IL2 | IL15 | Stimuli) & IFNGT) & ! (SMAD | P2));\\n', '  rate_up = @logic ? 1.0 : 0.0;\\n', '  rate_down = @logic ? 0.0 : 1.0;\\n', '}\\n', '\\n', 'Node P2 {\\n', '  logic = ((IFNG | P2) & ! Stimuli2);\\n', '  rate_up = @logic ? 1.0 : 0.0;\\n', '  rate_down = @logic ? 0.0 : 1.0;\\n', '}\\n', '\\n', 'Node GZMB {\\n', '  logic = ((CREB & IFNG) | TBET);\\n', '  rate_up = @logic ? 1.0 : 0.0;\\n', '  rate_down = @logic ? 0.0 : 1.0;\\n', '}\\n', '\\n', 'Node TPL2 {\\n', '  logic = (TAX | (PI3K & TNF));\\n', '  rate_up = @logic ? 1.0 : 0.0;\\n', '  rate_down = @logic ? 0.0 : 1.0;\\n', '}\\n', '\\n', 'Node TNF {\\n', '  logic = (NFKB);\\n', '  rate_up = @logic ? 1.0 : 0.0;\\n', '  rate_down = @logic ? 0.0 : 1.0;\\n', '}\\n', '\\n', 'Node TRADD {\\n', '  logic = (TNF & ! (IAP | A20));\\n', '  rate_up = @logic ? 1.0 : 0.0;\\n', '  rate_down = @logic ? 0.0 : 1.0;\\n', '}\\n', '\\n', 'Node FasL {\\n', '  logic = (STAT3 | NFKB | NFAT | ERK);\\n', '  rate_up = @logic ? 1.0 : 0.0;\\n', '  rate_down = @logic ? 0.0 : 1.0;\\n', '}\\n', '\\n', 'Node FasT {\\n', '  logic = (NFKB);\\n', '  rate_up = @logic ? 1.0 : 0.0;\\n', '  rate_down = @logic ? 0.0 : 1.0;\\n', '}\\n', '\\n', 'Node Fas {\\n', '  logic = ((FasT & FasL) & ! sFas);\\n', '  rate_up = @logic ? 1.0 : 0.0;\\n', '  rate_down = @logic ? 0.0 : 1.0;\\n', '}\\n', '\\n', 'Node sFas {\\n', '  logic = (FasT & S1P);\\n', '  rate_up = @logic ? 1.0 : 0.0;\\n', '  rate_down = @logic ? 0.0 : 1.0;\\n', '}\\n', '\\n', 'Node Ceramide {\\n', '  logic = (Fas & ! S1P);\\n', '  rate_up = @logic ? 1.0 : 0.0;\\n', '  rate_down = @logic ? 0.0 : 1.0;\\n', '}\\n', '\\n', 'Node DISC {\\n', '  logic = (FasT & ((Fas & IL2) | Ceramide | (Fas & ! FLIP)));\\n', '  rate_up = @logic ? 1.0 : 0.0;\\n', '  rate_down = @logic ? 0.0 : 1.0;\\n', '}\\n', '\\n', 'Node Caspase {\\n', '  logic = ((((TRADD | GZMB) & BID) & ! IAP) | DISC);\\n', '  rate_up = @logic ? 1.0 : 0.0;\\n', '  rate_down = @logic ? 0.0 : 1.0;\\n', '}\\n', '\\n', 'Node FLIP {\\n', '  logic = ((NFKB | (CREB & IFNG)) & ! DISC);\\n', '  rate_up = @logic ? 1.0 : 0.0;\\n', '  rate_down = @logic ? 0.0 : 1.0;\\n', '}\\n', '\\n', 'Node A20 {\\n', '  logic = (NFKB);\\n', '  rate_up = @logic ? 1.0 : 0.0;\\n', '  rate_down = @logic ? 0.0 : 1.0;\\n', '}\\n', '\\n', 'Node BID {\\n', '  logic = ((Caspase | GZMB) & ! (BclxL | MCL1));\\n', '  rate_up = @logic ? 1.0 : 0.0;\\n', '  rate_down = @logic ? 0.0 : 1.0;\\n', '}\\n', '\\n', 'Node IAP {\\n', '  logic = (NFKB & ! BID);\\n', '  rate_up = @logic ? 1.0 : 0.0;\\n', '  rate_down = @logic ? 0.0 : 1.0;\\n', '}\\n', '\\n', 'Node BclxL {\\n', '  logic = ((NFKB | STAT3) & ! (BID | GZMB | DISC));\\n', '  rate_up = @logic ? 1.0 : 0.0;\\n', '  rate_down = @logic ? 0.0 : 1.0;\\n', '}\\n', '\\n', 'Node MCL1 {\\n', '  logic = ((IL2RB & STAT3 & NFKB & PI3K) & ! DISC);\\n', '  rate_up = @logic ? 1.0 : 0.0;\\n', '  rate_down = @logic ? 0.0 : 1.0;\\n', '}\\n', '\\n', 'Node Apoptosis {\\n', '  logic = (Caspase);\\n', '  rate_up = @logic ? 1.0 : 0.0;\\n', '  rate_down = @logic ? 0.0 : 1.0;\\n', '}\\n', '\\n', 'Node GPCR {\\n', '  logic = (S1P);\\n', '  rate_up = @logic ? 1.0 : 0.0;\\n', '  rate_down = @logic ? 0.0 : 1.0;\\n', '}\\n', '\\n', 'Node SMAD {\\n', '  logic = (GPCR);\\n', '  rate_up = @logic ? 1.0 : 0.0;\\n', '  rate_down = @logic ? 0.0 : 1.0;\\n', '}\\n', '\\n', 'Node SPHK1 {\\n', '  logic = (PDGFR);\\n', '  rate_up = @logic ? 1.0 : 0.0;\\n', '  rate_down = @logic ? 0.0 : 1.0;\\n', '}\\n', '\\n', 'Node S1P {\\n', '  logic = (SPHK1 & ! Ceramide);\\n', '  rate_up = @logic ? 1.0 : 0.0;\\n', '  rate_down = @logic ? 0.0 : 1.0;\\n', '}\\n', '\\n', 'Node PDGF {\\n', '  logic = (PDGF);\\n', '  rate_up = @logic ? 1.0 : 0.0;\\n', '  rate_down = @logic ? 0.0 : 1.0;\\n', '}\\n', '\\n', 'Node IL15 {\\n', '  logic = (IL15);\\n', '  rate_up = @logic ? 1.0 : 0.0;\\n', '  rate_down = @logic ? 0.0 : 1.0;\\n', '}\\n', '\\n', 'Node Stimuli {\\n', '  logic = (Stimuli);\\n', '  rate_up = @logic ? 1.0 : 0.0;\\n', '  rate_down = @logic ? 0.0 : 1.0;\\n', '}\\n', '\\n', 'Node Stimuli2 {\\n', '  logic = (Stimuli2);\\n', '  rate_up = @logic ? 1.0 : 0.0;\\n', '  rate_down = @logic ? 0.0 : 1.0;\\n', '}\\n', '\\n', 'Node CD45 {\\n', '  logic = (CD45);\\n', '  rate_up = @logic ? 1.0 : 0.0;\\n', '  rate_down = @logic ? 0.0 : 1.0;\\n', '}\\n', '\\n', 'Node TAX {\\n', '  logic = (TAX);\\n', '  rate_up = @logic ? 1.0 : 0.0;\\n', '  rate_down = @logic ? 0.0 : 1.0;\\n', '}\\n', '\\n']\n"
     ]
    }
   ],
   "source": [
    "print(bndText)"
   ]
  },
  {
   "cell_type": "code",
   "execution_count": null,
   "metadata": {},
   "outputs": [],
   "source": []
  }
 ],
 "metadata": {
  "kernelspec": {
   "display_name": "py39",
   "language": "python",
   "name": "python3"
  },
  "language_info": {
   "codemirror_mode": {
    "name": "ipython",
    "version": 3
   },
   "file_extension": ".py",
   "mimetype": "text/x-python",
   "name": "python",
   "nbconvert_exporter": "python",
   "pygments_lexer": "ipython3",
   "version": "3.9.12"
  }
 },
 "nbformat": 4,
 "nbformat_minor": 2
}
